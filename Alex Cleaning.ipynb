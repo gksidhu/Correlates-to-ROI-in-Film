{
 "cells": [
  {
   "cell_type": "code",
   "execution_count": 360,
   "metadata": {},
   "outputs": [],
   "source": [
    "import pandas as pd\n",
    "import numpy as np\n",
    "import matplotlib as plt\n",
    "import os\n",
    "from scipy import stats\n",
    "import datetime\n",
    "\n",
    "\n",
    "def duplicates_by(df, columns):\n",
    "    return df[df.duplicated(subset=columns,keep=False)].sort_values(columns)\n",
    "\n",
    "\n",
    "%matplotlib inline\n",
    "#os.chdir('/Users/flatironschooldc3/FlatironSchoolRepo/dc-ds-111819/module-1/project/unzipped_data')\n",
    "os.chdir('/Users/flatironschooldc/Code/LearnCo/dc-ds-111819/module-1/project/data/')"
   ]
  },
  {
   "cell_type": "code",
   "execution_count": 424,
   "metadata": {},
   "outputs": [],
   "source": [
    "#Rotten Tomatoes\n",
    "rtm = pd.read_csv(\"rt.movie_info.tsv\", sep='\\t') \n",
    "\n",
    "# TheMovieDB (TMDB)\n",
    "tmdbm = pd.read_csv(\"tmdb.movies.csv\")\n",
    "tmdbb = pd.read_csv(\"tn.movie_budgets.csv\")\n"
   ]
  },
  {
   "cell_type": "code",
   "execution_count": 425,
   "metadata": {},
   "outputs": [],
   "source": [
    "#-investigation commands-\n",
    "#tmdbm.isna().sum()\n",
    "#tmdbb.isna().sum()\n",
    "\n",
    "#tmdbm.original_language.value_counts()\n",
    "\n",
    "\n",
    "#-flag outliers-\n",
    "\n",
    "# z = np.abs(stats.zscore(tmdbb[col]))\n",
    "#     threshold = 4.26 #this corresponds to a probability below 1:10,000\n",
    "#     outliers = np.where(z>threshold)\n",
    "\n",
    "#-look at duplicates-\n",
    "#tmdbb.loc[tmdbb['id']==100]\n",
    "#duplicates_by(tmdbm,['title'])\n",
    "#duplicates_by(tmdbb,['title'])\n",
    "#duplicates_by(tmdbm,['title','release_date'])\n",
    "#duplicates_by(tmdbb,['title','release_date'])\n",
    "\n",
    "#-format of merge column-\n",
    "#tmdbb.release_date.head()\n",
    "#tmdbm.release_date.head()\n",
    "\n",
    "#print(tmdbb.sort_values('title').title.head(25))\n",
    "#print(tmdbm.sort_values('title').title.head(25))\n",
    "\n",
    "#tmdbb[tmdbb['title'].str.contains(\"Potter\")]\n",
    "#tmdbm[tmdbm['title'].str.contains(\"Potter\")]\n",
    "\n",
    "#-confirm merge-\n",
    "#tmd['_merge'].value_counts()\n",
    "\n",
    "#Cleaning commands\n",
    "\n",
    "#remove duplicates\n",
    "'''\n",
    "There are 5 duplicates in tmdbm by title & release_date, all v. small movies   \n",
    "'''\n",
    "tmdbm.drop_duplicates(subset=['title','release_date'], inplace=True)\n",
    "tmdbb.drop_duplicates(inplace=True)\n",
    "\n",
    "#drop pointless cols\n",
    "del_cols = ['Unnamed: 0','genre_ids'] \n",
    "for col in del_cols:\n",
    "    del tmdbm[col]\n",
    "\n",
    "#flag title changes\n",
    "tmdbm['title_change'] = tmdbm['original_title'] != tmdbm['title']\n",
    "\n",
    "#rename columns\n",
    "tmdbb.rename(columns={'movie':'title'},inplace=True)\n",
    "\n",
    "#convert dollars to numeric and flag outliers\n",
    "for col in ['production_budget','domestic_gross','worldwide_gross']:\n",
    "    tmdbb[col] = tmdbb[col].apply(lambda x:float(x[1:].replace(',','')))\n",
    "    \n",
    "#standardize dates\n",
    "tmdbb['release_date'] = pd.to_datetime(tmdbb['release_date'],infer_datetime_format=True)\n",
    "tmdbm['release_date'] = pd.to_datetime(tmdbm['release_date'],infer_datetime_format=True)\n",
    "    \n",
    "#calculate ROI variables\n",
    "tmdbb['domestic_roi']  = ((tmdbb['domestic_gross']  - tmdbb['production_budget']) / tmdbb['production_budget']) * 100\n",
    "tmdbb['worldwide_roi'] = ((tmdbb['worldwide_gross'] - tmdbb['production_budget']) / tmdbb['production_budget']) * 100\n",
    "\n",
    "\n",
    "tmd = pd.merge(tmdbb,tmdbm,on=['title','release_date'],indicator=False,validate=\"1:1\")\n",
    "tmd.to_csv('tmd.csv')"
   ]
  },
  {
   "cell_type": "code",
   "execution_count": 353,
   "metadata": {},
   "outputs": [
    {
     "data": {
      "text/plain": [
       "count     1270.000000\n",
       "mean       306.458972\n",
       "std       1335.217754\n",
       "min       -100.000000\n",
       "25%         -8.710975\n",
       "50%        122.732514\n",
       "75%        303.014455\n",
       "max      41556.474000\n",
       "Name: worldwide_roi, dtype: float64"
      ]
     },
     "execution_count": 353,
     "metadata": {},
     "output_type": "execute_result"
    }
   ],
   "source": [
    "#do some sanity checks\n",
    "tmd['worldwide_roi'].describe()"
   ]
  },
  {
   "cell_type": "code",
   "execution_count": 354,
   "metadata": {},
   "outputs": [
    {
     "data": {
      "text/plain": [
       "count     1270.000000\n",
       "mean       108.407656\n",
       "std        730.713906\n",
       "min       -100.000000\n",
       "25%        -61.459725\n",
       "50%         -3.238680\n",
       "75%        101.678240\n",
       "max      22664.410000\n",
       "Name: domestic_roi, dtype: float64"
      ]
     },
     "execution_count": 354,
     "metadata": {},
     "output_type": "execute_result"
    }
   ],
   "source": [
    "tmd['domestic_roi'].describe()"
   ]
  },
  {
   "cell_type": "code",
   "execution_count": 419,
   "metadata": {},
   "outputs": [
    {
     "name": "stdout",
     "output_type": "stream",
     "text": [
      "AxesSubplot(0.125,0.125;0.775x0.755)\n"
     ]
    },
    {
     "data": {
      "image/png": "[encoded data removed]",
      "text/plain": [
       "<Figure size 432x288 with 1 Axes>"
      ]
     },
     "metadata": {
      "needs_background": "light"
     },
     "output_type": "display_data"
    }
   ],
   "source": [
    "tmd.loc[tmd['popularity']>50].describe()\n",
    "print(tmd['vote_average'].hist())\n"
   ]
  },
  {
   "cell_type": "code",
   "execution_count": 358,
   "metadata": {},
   "outputs": [],
   "source": [
    "print(tmd['popularity'].hist())"
   ]
  },
  {
   "cell_type": "code",
   "execution_count": 420,
   "metadata": {},
   "outputs": [
    {
     "data": {
      "text/html": [
       "<div>\n",
       "<style scoped>\n",
       "    .dataframe tbody tr th:only-of-type {\n",
       "        vertical-align: middle;\n",
       "    }\n",
       "\n",
       "    .dataframe tbody tr th {\n",
       "        vertical-align: top;\n",
       "    }\n",
       "\n",
       "    .dataframe thead th {\n",
       "        text-align: right;\n",
       "    }\n",
       "</style>\n",
       "<table border=\"1\" class=\"dataframe\">\n",
       "  <thead>\n",
       "    <tr style=\"text-align: right;\">\n",
       "      <th></th>\n",
       "      <th>production_budget</th>\n",
       "      <th>domestic_gross</th>\n",
       "      <th>worldwide_gross</th>\n",
       "      <th>domestic_roi</th>\n",
       "      <th>worldwide_roi</th>\n",
       "      <th>popularity</th>\n",
       "      <th>vote_average</th>\n",
       "      <th>vote_count</th>\n",
       "    </tr>\n",
       "  </thead>\n",
       "  <tbody>\n",
       "    <tr>\n",
       "      <td>production_budget</td>\n",
       "      <td>1.000000</td>\n",
       "      <td>0.723722</td>\n",
       "      <td>0.796485</td>\n",
       "      <td>-0.088761</td>\n",
       "      <td>-0.052125</td>\n",
       "      <td>0.618293</td>\n",
       "      <td>0.170412</td>\n",
       "      <td>0.657029</td>\n",
       "    </tr>\n",
       "    <tr>\n",
       "      <td>domestic_gross</td>\n",
       "      <td>0.723722</td>\n",
       "      <td>1.000000</td>\n",
       "      <td>0.942370</td>\n",
       "      <td>0.059798</td>\n",
       "      <td>0.089948</td>\n",
       "      <td>0.616461</td>\n",
       "      <td>0.315010</td>\n",
       "      <td>0.790509</td>\n",
       "    </tr>\n",
       "    <tr>\n",
       "      <td>worldwide_gross</td>\n",
       "      <td>0.796485</td>\n",
       "      <td>0.942370</td>\n",
       "      <td>1.000000</td>\n",
       "      <td>0.021066</td>\n",
       "      <td>0.073495</td>\n",
       "      <td>0.638779</td>\n",
       "      <td>0.287215</td>\n",
       "      <td>0.790356</td>\n",
       "    </tr>\n",
       "    <tr>\n",
       "      <td>domestic_roi</td>\n",
       "      <td>-0.088761</td>\n",
       "      <td>0.059798</td>\n",
       "      <td>0.021066</td>\n",
       "      <td>1.000000</td>\n",
       "      <td>0.986319</td>\n",
       "      <td>0.018369</td>\n",
       "      <td>0.015318</td>\n",
       "      <td>0.037421</td>\n",
       "    </tr>\n",
       "    <tr>\n",
       "      <td>worldwide_roi</td>\n",
       "      <td>-0.052125</td>\n",
       "      <td>0.089948</td>\n",
       "      <td>0.073495</td>\n",
       "      <td>0.986319</td>\n",
       "      <td>1.000000</td>\n",
       "      <td>0.056300</td>\n",
       "      <td>0.028488</td>\n",
       "      <td>0.082226</td>\n",
       "    </tr>\n",
       "    <tr>\n",
       "      <td>popularity</td>\n",
       "      <td>0.618293</td>\n",
       "      <td>0.616461</td>\n",
       "      <td>0.638779</td>\n",
       "      <td>0.018369</td>\n",
       "      <td>0.056300</td>\n",
       "      <td>1.000000</td>\n",
       "      <td>0.352290</td>\n",
       "      <td>0.690631</td>\n",
       "    </tr>\n",
       "    <tr>\n",
       "      <td>vote_average</td>\n",
       "      <td>0.170412</td>\n",
       "      <td>0.315010</td>\n",
       "      <td>0.287215</td>\n",
       "      <td>0.015318</td>\n",
       "      <td>0.028488</td>\n",
       "      <td>0.352290</td>\n",
       "      <td>1.000000</td>\n",
       "      <td>0.429410</td>\n",
       "    </tr>\n",
       "    <tr>\n",
       "      <td>vote_count</td>\n",
       "      <td>0.657029</td>\n",
       "      <td>0.790509</td>\n",
       "      <td>0.790356</td>\n",
       "      <td>0.037421</td>\n",
       "      <td>0.082226</td>\n",
       "      <td>0.690631</td>\n",
       "      <td>0.429410</td>\n",
       "      <td>1.000000</td>\n",
       "    </tr>\n",
       "  </tbody>\n",
       "</table>\n",
       "</div>"
      ],
      "text/plain": [
       "                   production_budget  domestic_gross  worldwide_gross  \\\n",
       "production_budget           1.000000        0.723722         0.796485   \n",
       "domestic_gross              0.723722        1.000000         0.942370   \n",
       "worldwide_gross             0.796485        0.942370         1.000000   \n",
       "domestic_roi               -0.088761        0.059798         0.021066   \n",
       "worldwide_roi              -0.052125        0.089948         0.073495   \n",
       "popularity                  0.618293        0.616461         0.638779   \n",
       "vote_average                0.170412        0.315010         0.287215   \n",
       "vote_count                  0.657029        0.790509         0.790356   \n",
       "\n",
       "                   domestic_roi  worldwide_roi  popularity  vote_average  \\\n",
       "production_budget     -0.088761      -0.052125    0.618293      0.170412   \n",
       "domestic_gross         0.059798       0.089948    0.616461      0.315010   \n",
       "worldwide_gross        0.021066       0.073495    0.638779      0.287215   \n",
       "domestic_roi           1.000000       0.986319    0.018369      0.015318   \n",
       "worldwide_roi          0.986319       1.000000    0.056300      0.028488   \n",
       "popularity             0.018369       0.056300    1.000000      0.352290   \n",
       "vote_average           0.015318       0.028488    0.352290      1.000000   \n",
       "vote_count             0.037421       0.082226    0.690631      0.429410   \n",
       "\n",
       "                   vote_count  \n",
       "production_budget    0.657029  \n",
       "domestic_gross       0.790509  \n",
       "worldwide_gross      0.790356  \n",
       "domestic_roi         0.037421  \n",
       "worldwide_roi        0.082226  \n",
       "popularity           0.690631  \n",
       "vote_average         0.429410  \n",
       "vote_count           1.000000  "
      ]
     },
     "execution_count": 420,
     "metadata": {},
     "output_type": "execute_result"
    }
   ],
   "source": [
    "tmd_test = tmd[['production_budget',\n",
    "                'domestic_gross',\n",
    "                'worldwide_gross',\n",
    "                'domestic_roi',\n",
    "                'worldwide_roi',\n",
    "                'popularity',\n",
    "                'vote_average',\n",
    "                'vote_count']]\n",
    "tmd_test.corr()"
   ]
  }
 ],
 "metadata": {
  "kernelspec": {
   "display_name": "Python [conda env:learn-env] *",
   "language": "python",
   "name": "conda-env-learn-env-py"
  },
  "language_info": {
   "codemirror_mode": {
    "name": "ipython",
    "version": 3
   },
   "file_extension": ".py",
   "mimetype": "text/x-python",
   "name": "python",
   "nbconvert_exporter": "python",
   "pygments_lexer": "ipython3",
   "version": "3.6.9"
  }
 },
 "nbformat": 4,
 "nbformat_minor": 2
}
