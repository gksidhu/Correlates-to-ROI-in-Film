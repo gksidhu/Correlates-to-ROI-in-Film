{
 "cells": [
  {
   "cell_type": "code",
   "execution_count": 430,
   "metadata": {},
   "outputs": [],
   "source": [
    "import pandas as pd\n",
    "import numpy as np\n",
    "import matplotlib as plt\n",
    "import os\n",
    "from scipy import stats\n",
    "import datetime\n",
    "\n",
    "\n",
    "def duplicates_by(df, columns):\n",
    "    return df[df.duplicated(subset=columns,keep=False)].sort_values(columns)\n",
    "\n",
    "\n",
    "%matplotlib inline\n",
    "#os.chdir('/Users/flatironschooldc3/FlatironSchoolRepo/dc-ds-111819/module-1/project/unzipped_data')\n",
    "os.chdir('/Users/flatironschooldc/Code/LearnCo/dc-ds-111819/module-1/project/data/')"
   ]
  },
  {
   "cell_type": "code",
   "execution_count": 502,
   "metadata": {},
   "outputs": [],
   "source": [
    "#Rotten Tomatoes\n",
    "rtm = pd.read_csv(\"rt.movie_info.tsv\", sep='\\t') \n",
    "\n",
    "# TheMovieDB (TMDB)\n",
    "tmdbm = pd.read_csv(\"tmdb.movies.csv\")\n",
    "tmdbb = pd.read_csv(\"tn.movie_budgets.csv\")\n"
   ]
  },
  {
   "cell_type": "code",
   "execution_count": 503,
   "metadata": {},
   "outputs": [
    {
     "ename": "KeyError",
     "evalue": "('Unnamed: 0', 'genre_ids')",
     "output_type": "error",
     "traceback": [
      "\u001b[0;31m---------------------------------------------------------------------------\u001b[0m",
      "\u001b[0;31mKeyError\u001b[0m                                  Traceback (most recent call last)",
      "\u001b[0;32m/opt/anaconda3/envs/learn-env/lib/python3.6/site-packages/pandas/core/indexes/base.py\u001b[0m in \u001b[0;36mget_loc\u001b[0;34m(self, key, method, tolerance)\u001b[0m\n\u001b[1;32m   2896\u001b[0m             \u001b[0;32mtry\u001b[0m\u001b[0;34m:\u001b[0m\u001b[0;34m\u001b[0m\u001b[0;34m\u001b[0m\u001b[0m\n\u001b[0;32m-> 2897\u001b[0;31m                 \u001b[0;32mreturn\u001b[0m \u001b[0mself\u001b[0m\u001b[0;34m.\u001b[0m\u001b[0m_engine\u001b[0m\u001b[0;34m.\u001b[0m\u001b[0mget_loc\u001b[0m\u001b[0;34m(\u001b[0m\u001b[0mkey\u001b[0m\u001b[0;34m)\u001b[0m\u001b[0;34m\u001b[0m\u001b[0;34m\u001b[0m\u001b[0m\n\u001b[0m\u001b[1;32m   2898\u001b[0m             \u001b[0;32mexcept\u001b[0m \u001b[0mKeyError\u001b[0m\u001b[0;34m:\u001b[0m\u001b[0;34m\u001b[0m\u001b[0;34m\u001b[0m\u001b[0m\n",
      "\u001b[0;32mpandas/_libs/index.pyx\u001b[0m in \u001b[0;36mpandas._libs.index.IndexEngine.get_loc\u001b[0;34m()\u001b[0m\n",
      "\u001b[0;32mpandas/_libs/index.pyx\u001b[0m in \u001b[0;36mpandas._libs.index.IndexEngine.get_loc\u001b[0;34m()\u001b[0m\n",
      "\u001b[0;32mpandas/_libs/hashtable_class_helper.pxi\u001b[0m in \u001b[0;36mpandas._libs.hashtable.PyObjectHashTable.get_item\u001b[0;34m()\u001b[0m\n",
      "\u001b[0;32mpandas/_libs/hashtable_class_helper.pxi\u001b[0m in \u001b[0;36mpandas._libs.hashtable.PyObjectHashTable.get_item\u001b[0;34m()\u001b[0m\n",
      "\u001b[0;31mKeyError\u001b[0m: ('Unnamed: 0', 'genre_ids')",
      "\nDuring handling of the above exception, another exception occurred:\n",
      "\u001b[0;31mKeyError\u001b[0m                                  Traceback (most recent call last)",
      "\u001b[0;32m<ipython-input-503-df5f173094f6>\u001b[0m in \u001b[0;36m<module>\u001b[0;34m\u001b[0m\n\u001b[1;32m     42\u001b[0m \u001b[0;34m\u001b[0m\u001b[0m\n\u001b[1;32m     43\u001b[0m \u001b[0;31m#drop pointless cols\u001b[0m\u001b[0;34m\u001b[0m\u001b[0;34m\u001b[0m\u001b[0;34m\u001b[0m\u001b[0m\n\u001b[0;32m---> 44\u001b[0;31m \u001b[0;32mdel\u001b[0m \u001b[0mtmdbm\u001b[0m\u001b[0;34m[\u001b[0m\u001b[0;34m'Unnamed: 0'\u001b[0m\u001b[0;34m,\u001b[0m\u001b[0;34m'genre_ids'\u001b[0m\u001b[0;34m]\u001b[0m\u001b[0;34m\u001b[0m\u001b[0;34m\u001b[0m\u001b[0m\n\u001b[0m\u001b[1;32m     45\u001b[0m \u001b[0;34m\u001b[0m\u001b[0m\n\u001b[1;32m     46\u001b[0m \u001b[0;31m#flag title changes\u001b[0m\u001b[0;34m\u001b[0m\u001b[0;34m\u001b[0m\u001b[0;34m\u001b[0m\u001b[0m\n",
      "\u001b[0;32m/opt/anaconda3/envs/learn-env/lib/python3.6/site-packages/pandas/core/generic.py\u001b[0m in \u001b[0;36m__delitem__\u001b[0;34m(self, key)\u001b[0m\n\u001b[1;32m   3514\u001b[0m             \u001b[0;31m# there was no match, this call should raise the appropriate\u001b[0m\u001b[0;34m\u001b[0m\u001b[0;34m\u001b[0m\u001b[0;34m\u001b[0m\u001b[0m\n\u001b[1;32m   3515\u001b[0m             \u001b[0;31m# exception:\u001b[0m\u001b[0;34m\u001b[0m\u001b[0;34m\u001b[0m\u001b[0;34m\u001b[0m\u001b[0m\n\u001b[0;32m-> 3516\u001b[0;31m             \u001b[0mself\u001b[0m\u001b[0;34m.\u001b[0m\u001b[0m_data\u001b[0m\u001b[0;34m.\u001b[0m\u001b[0mdelete\u001b[0m\u001b[0;34m(\u001b[0m\u001b[0mkey\u001b[0m\u001b[0;34m)\u001b[0m\u001b[0;34m\u001b[0m\u001b[0;34m\u001b[0m\u001b[0m\n\u001b[0m\u001b[1;32m   3517\u001b[0m \u001b[0;34m\u001b[0m\u001b[0m\n\u001b[1;32m   3518\u001b[0m         \u001b[0;31m# delete from the caches\u001b[0m\u001b[0;34m\u001b[0m\u001b[0;34m\u001b[0m\u001b[0;34m\u001b[0m\u001b[0m\n",
      "\u001b[0;32m/opt/anaconda3/envs/learn-env/lib/python3.6/site-packages/pandas/core/internals/managers.py\u001b[0m in \u001b[0;36mdelete\u001b[0;34m(self, item)\u001b[0m\n\u001b[1;32m    994\u001b[0m         \u001b[0mDelete\u001b[0m \u001b[0mselected\u001b[0m \u001b[0mitem\u001b[0m \u001b[0;34m(\u001b[0m\u001b[0mitems\u001b[0m \u001b[0;32mif\u001b[0m \u001b[0mnon\u001b[0m\u001b[0;34m-\u001b[0m\u001b[0munique\u001b[0m\u001b[0;34m)\u001b[0m \u001b[0;32min\u001b[0m\u001b[0;34m-\u001b[0m\u001b[0mplace\u001b[0m\u001b[0;34m.\u001b[0m\u001b[0;34m\u001b[0m\u001b[0;34m\u001b[0m\u001b[0m\n\u001b[1;32m    995\u001b[0m         \"\"\"\n\u001b[0;32m--> 996\u001b[0;31m         \u001b[0mindexer\u001b[0m \u001b[0;34m=\u001b[0m \u001b[0mself\u001b[0m\u001b[0;34m.\u001b[0m\u001b[0mitems\u001b[0m\u001b[0;34m.\u001b[0m\u001b[0mget_loc\u001b[0m\u001b[0;34m(\u001b[0m\u001b[0mitem\u001b[0m\u001b[0;34m)\u001b[0m\u001b[0;34m\u001b[0m\u001b[0;34m\u001b[0m\u001b[0m\n\u001b[0m\u001b[1;32m    997\u001b[0m \u001b[0;34m\u001b[0m\u001b[0m\n\u001b[1;32m    998\u001b[0m         \u001b[0mis_deleted\u001b[0m \u001b[0;34m=\u001b[0m \u001b[0mnp\u001b[0m\u001b[0;34m.\u001b[0m\u001b[0mzeros\u001b[0m\u001b[0;34m(\u001b[0m\u001b[0mself\u001b[0m\u001b[0;34m.\u001b[0m\u001b[0mshape\u001b[0m\u001b[0;34m[\u001b[0m\u001b[0;36m0\u001b[0m\u001b[0;34m]\u001b[0m\u001b[0;34m,\u001b[0m \u001b[0mdtype\u001b[0m\u001b[0;34m=\u001b[0m\u001b[0mnp\u001b[0m\u001b[0;34m.\u001b[0m\u001b[0mbool_\u001b[0m\u001b[0;34m)\u001b[0m\u001b[0;34m\u001b[0m\u001b[0;34m\u001b[0m\u001b[0m\n",
      "\u001b[0;32m/opt/anaconda3/envs/learn-env/lib/python3.6/site-packages/pandas/core/indexes/base.py\u001b[0m in \u001b[0;36mget_loc\u001b[0;34m(self, key, method, tolerance)\u001b[0m\n\u001b[1;32m   2897\u001b[0m                 \u001b[0;32mreturn\u001b[0m \u001b[0mself\u001b[0m\u001b[0;34m.\u001b[0m\u001b[0m_engine\u001b[0m\u001b[0;34m.\u001b[0m\u001b[0mget_loc\u001b[0m\u001b[0;34m(\u001b[0m\u001b[0mkey\u001b[0m\u001b[0;34m)\u001b[0m\u001b[0;34m\u001b[0m\u001b[0;34m\u001b[0m\u001b[0m\n\u001b[1;32m   2898\u001b[0m             \u001b[0;32mexcept\u001b[0m \u001b[0mKeyError\u001b[0m\u001b[0;34m:\u001b[0m\u001b[0;34m\u001b[0m\u001b[0;34m\u001b[0m\u001b[0m\n\u001b[0;32m-> 2899\u001b[0;31m                 \u001b[0;32mreturn\u001b[0m \u001b[0mself\u001b[0m\u001b[0;34m.\u001b[0m\u001b[0m_engine\u001b[0m\u001b[0;34m.\u001b[0m\u001b[0mget_loc\u001b[0m\u001b[0;34m(\u001b[0m\u001b[0mself\u001b[0m\u001b[0;34m.\u001b[0m\u001b[0m_maybe_cast_indexer\u001b[0m\u001b[0;34m(\u001b[0m\u001b[0mkey\u001b[0m\u001b[0;34m)\u001b[0m\u001b[0;34m)\u001b[0m\u001b[0;34m\u001b[0m\u001b[0;34m\u001b[0m\u001b[0m\n\u001b[0m\u001b[1;32m   2900\u001b[0m         \u001b[0mindexer\u001b[0m \u001b[0;34m=\u001b[0m \u001b[0mself\u001b[0m\u001b[0;34m.\u001b[0m\u001b[0mget_indexer\u001b[0m\u001b[0;34m(\u001b[0m\u001b[0;34m[\u001b[0m\u001b[0mkey\u001b[0m\u001b[0;34m]\u001b[0m\u001b[0;34m,\u001b[0m \u001b[0mmethod\u001b[0m\u001b[0;34m=\u001b[0m\u001b[0mmethod\u001b[0m\u001b[0;34m,\u001b[0m \u001b[0mtolerance\u001b[0m\u001b[0;34m=\u001b[0m\u001b[0mtolerance\u001b[0m\u001b[0;34m)\u001b[0m\u001b[0;34m\u001b[0m\u001b[0;34m\u001b[0m\u001b[0m\n\u001b[1;32m   2901\u001b[0m         \u001b[0;32mif\u001b[0m \u001b[0mindexer\u001b[0m\u001b[0;34m.\u001b[0m\u001b[0mndim\u001b[0m \u001b[0;34m>\u001b[0m \u001b[0;36m1\u001b[0m \u001b[0;32mor\u001b[0m \u001b[0mindexer\u001b[0m\u001b[0;34m.\u001b[0m\u001b[0msize\u001b[0m \u001b[0;34m>\u001b[0m \u001b[0;36m1\u001b[0m\u001b[0;34m:\u001b[0m\u001b[0;34m\u001b[0m\u001b[0;34m\u001b[0m\u001b[0m\n",
      "\u001b[0;32mpandas/_libs/index.pyx\u001b[0m in \u001b[0;36mpandas._libs.index.IndexEngine.get_loc\u001b[0;34m()\u001b[0m\n",
      "\u001b[0;32mpandas/_libs/index.pyx\u001b[0m in \u001b[0;36mpandas._libs.index.IndexEngine.get_loc\u001b[0;34m()\u001b[0m\n",
      "\u001b[0;32mpandas/_libs/hashtable_class_helper.pxi\u001b[0m in \u001b[0;36mpandas._libs.hashtable.PyObjectHashTable.get_item\u001b[0;34m()\u001b[0m\n",
      "\u001b[0;32mpandas/_libs/hashtable_class_helper.pxi\u001b[0m in \u001b[0;36mpandas._libs.hashtable.PyObjectHashTable.get_item\u001b[0;34m()\u001b[0m\n",
      "\u001b[0;31mKeyError\u001b[0m: ('Unnamed: 0', 'genre_ids')"
     ]
    }
   ],
   "source": [
    "#-investigation commands-\n",
    "#tmdbm.isna().sum()\n",
    "#tmdbb.isna().sum()\n",
    "\n",
    "#tmdbm.original_language.value_counts()\n",
    "\n",
    "\n",
    "#-flag outliers-\n",
    "\n",
    "# z = np.abs(stats.zscore(tmdbb[col]))\n",
    "#     threshold = 4.26 #this corresponds to a probability below 1:10,000\n",
    "#     outliers = np.where(z>threshold)\n",
    "\n",
    "#-look at duplicates-\n",
    "#tmdbb.loc[tmdbb['id']==100]\n",
    "#duplicates_by(tmdbm,['title'])\n",
    "#duplicates_by(tmdbb,['title'])\n",
    "#duplicates_by(tmdbm,['title','release_date'])\n",
    "#duplicates_by(tmdbb,['title','release_date'])\n",
    "\n",
    "#-format of merge column-\n",
    "#tmdbb.release_date.head()\n",
    "#tmdbm.release_date.head()\n",
    "\n",
    "#print(tmdbb.sort_values('title').title.head(25))\n",
    "#print(tmdbm.sort_values('title').title.head(25))\n",
    "\n",
    "#tmdbb[tmdbb['title'].str.contains(\"Potter\")]\n",
    "#tmdbm[tmdbm['title'].str.contains(\"Potter\")]\n",
    "\n",
    "#-confirm merge-\n",
    "#tmd['_merge'].value_counts()\n",
    "\n",
    "#Cleaning commands\n",
    "\n",
    "#remove duplicates\n",
    "'''\n",
    "There are 5 duplicates in tmdbm by title & release_date, all v. small movies   \n",
    "'''\n",
    "tmdbm.drop_duplicates(subset=['title','release_date'], inplace=True)\n",
    "tmdbb.drop_duplicates(inplace=True)\n",
    "\n",
    "#drop pointless cols\n",
    "del_cols = ['Unnamed: 0','genre_ids'] \n",
    "for col in del_cols:\n",
    "    del tmdbm[col]\n",
    "\n",
    "#flag title changes\n",
    "tmdbm['title_change'] = tmdbm['original_title'] != tmdbm['title']\n",
    "\n",
    "#rename columns\n",
    "tmdbb.rename(columns={'movie':'title'},inplace=True)\n",
    "\n",
    "#convert dollars to numeric and flag outliers\n",
    "for col in ['production_budget','domestic_gross','worldwide_gross']:\n",
    "    tmdbb[col] = tmdbb[col].apply(lambda x:float(x[1:].replace(',','')))\n",
    "    \n",
    "#standardize dates\n",
    "tmdbb['release_date'] = pd.to_datetime(tmdbb['release_date'],infer_datetime_format=True)\n",
    "tmdbm['release_date'] = pd.to_datetime(tmdbm['release_date'],infer_datetime_format=True)\n",
    "    \n",
    "#calculate ROI variables\n",
    "tmdbb['domestic_roi']  = ((tmdbb['domestic_gross']  - tmdbb['production_budget']) / tmdbb['production_budget']) \n",
    "tmdbb['worldwide_roi'] = ((tmdbb['worldwide_gross'] - tmdbb['production_budget']) / tmdbb['production_budget']) \n",
    "\n",
    "\n",
    "tmd = pd.merge(tmdbb,tmdbm,on=['title','release_date'],indicator=False,validate=\"1:1\")\n",
    "tmd.to_csv('tmd.csv')"
   ]
  },
  {
   "cell_type": "code",
   "execution_count": 429,
   "metadata": {},
   "outputs": [
    {
     "data": {
      "text/plain": [
       "count     1270.000000\n",
       "mean       306.458972\n",
       "std       1335.217754\n",
       "min       -100.000000\n",
       "25%         -8.710975\n",
       "50%        122.732514\n",
       "75%        303.014455\n",
       "max      41556.474000\n",
       "Name: worldwide_roi, dtype: float64"
      ]
     },
     "execution_count": 429,
     "metadata": {},
     "output_type": "execute_result"
    }
   ],
   "source": [
    "#do some sanity checks\n",
    "tmd['worldwide_roi'].describe()"
   ]
  },
  {
   "cell_type": "code",
   "execution_count": 354,
   "metadata": {},
   "outputs": [
    {
     "data": {
      "text/plain": [
       "count     1270.000000\n",
       "mean       108.407656\n",
       "std        730.713906\n",
       "min       -100.000000\n",
       "25%        -61.459725\n",
       "50%         -3.238680\n",
       "75%        101.678240\n",
       "max      22664.410000\n",
       "Name: domestic_roi, dtype: float64"
      ]
     },
     "execution_count": 354,
     "metadata": {},
     "output_type": "execute_result"
    }
   ],
   "source": [
    "tmd['domestic_roi'].describe()"
   ]
  },
  {
   "cell_type": "code",
   "execution_count": 435,
   "metadata": {},
   "outputs": [
    {
     "name": "stdout",
     "output_type": "stream",
     "text": [
      "AxesSubplot(0.125,0.125;0.775x0.755)\n"
     ]
    },
    {
     "data": {
      "image/png": "[encoded data removed]",
      "text/plain": [
       "<Figure size 432x288 with 1 Axes>"
      ]
     },
     "metadata": {
      "needs_background": "light"
     },
     "output_type": "display_data"
    }
   ],
   "source": [
    "print(tmd['vote_average'].hist())"
   ]
  },
  {
   "cell_type": "code",
   "execution_count": 441,
   "metadata": {},
   "outputs": [
    {
     "data": {
      "text/plain": [
       "<matplotlib.axes._subplots.AxesSubplot at 0x1a28f68f60>"
      ]
     },
     "execution_count": 441,
     "metadata": {},
     "output_type": "execute_result"
    },
    {
     "data": {
      "image/png": "[encoded data removed]",
      "text/plain": [
       "<Figure size 432x288 with 1 Axes>"
      ]
     },
     "metadata": {
      "needs_background": "light"
     },
     "output_type": "display_data"
    }
   ],
   "source": [
    "tmd['production_budget'].hist()"
   ]
  },
  {
   "cell_type": "code",
   "execution_count": 426,
   "metadata": {},
   "outputs": [
    {
     "data": {
      "text/html": [
       "<div>\n",
       "<style scoped>\n",
       "    .dataframe tbody tr th:only-of-type {\n",
       "        vertical-align: middle;\n",
       "    }\n",
       "\n",
       "    .dataframe tbody tr th {\n",
       "        vertical-align: top;\n",
       "    }\n",
       "\n",
       "    .dataframe thead th {\n",
       "        text-align: right;\n",
       "    }\n",
       "</style>\n",
       "<table border=\"1\" class=\"dataframe\">\n",
       "  <thead>\n",
       "    <tr style=\"text-align: right;\">\n",
       "      <th></th>\n",
       "      <th>production_budget</th>\n",
       "      <th>domestic_gross</th>\n",
       "      <th>worldwide_gross</th>\n",
       "      <th>domestic_roi</th>\n",
       "      <th>worldwide_roi</th>\n",
       "      <th>popularity</th>\n",
       "      <th>vote_average</th>\n",
       "      <th>vote_count</th>\n",
       "    </tr>\n",
       "  </thead>\n",
       "  <tbody>\n",
       "    <tr>\n",
       "      <td>production_budget</td>\n",
       "      <td>1.000000</td>\n",
       "      <td>0.723722</td>\n",
       "      <td>0.796485</td>\n",
       "      <td>-0.088761</td>\n",
       "      <td>-0.052125</td>\n",
       "      <td>0.618293</td>\n",
       "      <td>0.170412</td>\n",
       "      <td>0.657029</td>\n",
       "    </tr>\n",
       "    <tr>\n",
       "      <td>domestic_gross</td>\n",
       "      <td>0.723722</td>\n",
       "      <td>1.000000</td>\n",
       "      <td>0.942370</td>\n",
       "      <td>0.059798</td>\n",
       "      <td>0.089948</td>\n",
       "      <td>0.616461</td>\n",
       "      <td>0.315010</td>\n",
       "      <td>0.790509</td>\n",
       "    </tr>\n",
       "    <tr>\n",
       "      <td>worldwide_gross</td>\n",
       "      <td>0.796485</td>\n",
       "      <td>0.942370</td>\n",
       "      <td>1.000000</td>\n",
       "      <td>0.021066</td>\n",
       "      <td>0.073495</td>\n",
       "      <td>0.638779</td>\n",
       "      <td>0.287215</td>\n",
       "      <td>0.790356</td>\n",
       "    </tr>\n",
       "    <tr>\n",
       "      <td>domestic_roi</td>\n",
       "      <td>-0.088761</td>\n",
       "      <td>0.059798</td>\n",
       "      <td>0.021066</td>\n",
       "      <td>1.000000</td>\n",
       "      <td>0.986319</td>\n",
       "      <td>0.018369</td>\n",
       "      <td>0.015318</td>\n",
       "      <td>0.037421</td>\n",
       "    </tr>\n",
       "    <tr>\n",
       "      <td>worldwide_roi</td>\n",
       "      <td>-0.052125</td>\n",
       "      <td>0.089948</td>\n",
       "      <td>0.073495</td>\n",
       "      <td>0.986319</td>\n",
       "      <td>1.000000</td>\n",
       "      <td>0.056300</td>\n",
       "      <td>0.028488</td>\n",
       "      <td>0.082226</td>\n",
       "    </tr>\n",
       "    <tr>\n",
       "      <td>popularity</td>\n",
       "      <td>0.618293</td>\n",
       "      <td>0.616461</td>\n",
       "      <td>0.638779</td>\n",
       "      <td>0.018369</td>\n",
       "      <td>0.056300</td>\n",
       "      <td>1.000000</td>\n",
       "      <td>0.352290</td>\n",
       "      <td>0.690631</td>\n",
       "    </tr>\n",
       "    <tr>\n",
       "      <td>vote_average</td>\n",
       "      <td>0.170412</td>\n",
       "      <td>0.315010</td>\n",
       "      <td>0.287215</td>\n",
       "      <td>0.015318</td>\n",
       "      <td>0.028488</td>\n",
       "      <td>0.352290</td>\n",
       "      <td>1.000000</td>\n",
       "      <td>0.429410</td>\n",
       "    </tr>\n",
       "    <tr>\n",
       "      <td>vote_count</td>\n",
       "      <td>0.657029</td>\n",
       "      <td>0.790509</td>\n",
       "      <td>0.790356</td>\n",
       "      <td>0.037421</td>\n",
       "      <td>0.082226</td>\n",
       "      <td>0.690631</td>\n",
       "      <td>0.429410</td>\n",
       "      <td>1.000000</td>\n",
       "    </tr>\n",
       "  </tbody>\n",
       "</table>\n",
       "</div>"
      ],
      "text/plain": [
       "                   production_budget  domestic_gross  worldwide_gross  \\\n",
       "production_budget           1.000000        0.723722         0.796485   \n",
       "domestic_gross              0.723722        1.000000         0.942370   \n",
       "worldwide_gross             0.796485        0.942370         1.000000   \n",
       "domestic_roi               -0.088761        0.059798         0.021066   \n",
       "worldwide_roi              -0.052125        0.089948         0.073495   \n",
       "popularity                  0.618293        0.616461         0.638779   \n",
       "vote_average                0.170412        0.315010         0.287215   \n",
       "vote_count                  0.657029        0.790509         0.790356   \n",
       "\n",
       "                   domestic_roi  worldwide_roi  popularity  vote_average  \\\n",
       "production_budget     -0.088761      -0.052125    0.618293      0.170412   \n",
       "domestic_gross         0.059798       0.089948    0.616461      0.315010   \n",
       "worldwide_gross        0.021066       0.073495    0.638779      0.287215   \n",
       "domestic_roi           1.000000       0.986319    0.018369      0.015318   \n",
       "worldwide_roi          0.986319       1.000000    0.056300      0.028488   \n",
       "popularity             0.018369       0.056300    1.000000      0.352290   \n",
       "vote_average           0.015318       0.028488    0.352290      1.000000   \n",
       "vote_count             0.037421       0.082226    0.690631      0.429410   \n",
       "\n",
       "                   vote_count  \n",
       "production_budget    0.657029  \n",
       "domestic_gross       0.790509  \n",
       "worldwide_gross      0.790356  \n",
       "domestic_roi         0.037421  \n",
       "worldwide_roi        0.082226  \n",
       "popularity           0.690631  \n",
       "vote_average         0.429410  \n",
       "vote_count           1.000000  "
      ]
     },
     "execution_count": 426,
     "metadata": {},
     "output_type": "execute_result"
    }
   ],
   "source": [
    "tmd_test = tmd[['production_budget',\n",
    "                'domestic_gross',\n",
    "                'worldwide_gross',\n",
    "                'domestic_roi',\n",
    "                'worldwide_roi',\n",
    "                'popularity',\n",
    "                'vote_average',\n",
    "                'vote_count']]\n",
    "tmd_test.corr()"
   ]
  },
  {
   "cell_type": "code",
   "execution_count": 461,
   "metadata": {},
   "outputs": [
    {
     "data": {
      "text/html": [
       "<div>\n",
       "<style scoped>\n",
       "    .dataframe tbody tr th:only-of-type {\n",
       "        vertical-align: middle;\n",
       "    }\n",
       "\n",
       "    .dataframe tbody tr th {\n",
       "        vertical-align: top;\n",
       "    }\n",
       "\n",
       "    .dataframe thead th {\n",
       "        text-align: right;\n",
       "    }\n",
       "</style>\n",
       "<table border=\"1\" class=\"dataframe\">\n",
       "  <thead>\n",
       "    <tr style=\"text-align: right;\">\n",
       "      <th></th>\n",
       "      <th>Unnamed: 0</th>\n",
       "      <th>title</th>\n",
       "      <th>year</th>\n",
       "      <th>runtime_minutes</th>\n",
       "      <th>genres</th>\n",
       "      <th>averagerating</th>\n",
       "      <th>numvotes</th>\n",
       "      <th>studio</th>\n",
       "      <th>domestic_gross</th>\n",
       "      <th>foreign_gross</th>\n",
       "    </tr>\n",
       "  </thead>\n",
       "  <tbody>\n",
       "    <tr>\n",
       "      <td>0</td>\n",
       "      <td>0</td>\n",
       "      <td>#1 Serial Killer</td>\n",
       "      <td>2013.0</td>\n",
       "      <td>87.0</td>\n",
       "      <td>Horror</td>\n",
       "      <td>5.6</td>\n",
       "      <td>40.0</td>\n",
       "      <td>NaN</td>\n",
       "      <td>NaN</td>\n",
       "      <td>0.0</td>\n",
       "    </tr>\n",
       "    <tr>\n",
       "      <td>1</td>\n",
       "      <td>2</td>\n",
       "      <td>#5</td>\n",
       "      <td>2018.0</td>\n",
       "      <td>87.0</td>\n",
       "      <td>Documentary</td>\n",
       "      <td>6.5</td>\n",
       "      <td>49.0</td>\n",
       "      <td>NaN</td>\n",
       "      <td>NaN</td>\n",
       "      <td>0.0</td>\n",
       "    </tr>\n",
       "    <tr>\n",
       "      <td>2</td>\n",
       "      <td>3</td>\n",
       "      <td>#50Fathers</td>\n",
       "      <td>2015.0</td>\n",
       "      <td>132.0</td>\n",
       "      <td>Comedy</td>\n",
       "      <td>6.5</td>\n",
       "      <td>49.0</td>\n",
       "      <td>NaN</td>\n",
       "      <td>NaN</td>\n",
       "      <td>0.0</td>\n",
       "    </tr>\n",
       "    <tr>\n",
       "      <td>3</td>\n",
       "      <td>4</td>\n",
       "      <td>#66</td>\n",
       "      <td>2015.0</td>\n",
       "      <td>116.0</td>\n",
       "      <td>Action</td>\n",
       "      <td>5.3</td>\n",
       "      <td>18.0</td>\n",
       "      <td>NaN</td>\n",
       "      <td>NaN</td>\n",
       "      <td>0.0</td>\n",
       "    </tr>\n",
       "    <tr>\n",
       "      <td>4</td>\n",
       "      <td>5</td>\n",
       "      <td>#82 Summits</td>\n",
       "      <td>2015.0</td>\n",
       "      <td>50.0</td>\n",
       "      <td>Documentary</td>\n",
       "      <td>6.5</td>\n",
       "      <td>49.0</td>\n",
       "      <td>NaN</td>\n",
       "      <td>NaN</td>\n",
       "      <td>0.0</td>\n",
       "    </tr>\n",
       "  </tbody>\n",
       "</table>\n",
       "</div>"
      ],
      "text/plain": [
       "   Unnamed: 0             title    year  runtime_minutes       genres  \\\n",
       "0           0  #1 Serial Killer  2013.0             87.0       Horror   \n",
       "1           2                #5  2018.0             87.0  Documentary   \n",
       "2           3        #50Fathers  2015.0            132.0       Comedy   \n",
       "3           4               #66  2015.0            116.0       Action   \n",
       "4           5       #82 Summits  2015.0             50.0  Documentary   \n",
       "\n",
       "   averagerating  numvotes studio  domestic_gross  foreign_gross  \n",
       "0            5.6      40.0    NaN             NaN            0.0  \n",
       "1            6.5      49.0    NaN             NaN            0.0  \n",
       "2            6.5      49.0    NaN             NaN            0.0  \n",
       "3            5.3      18.0    NaN             NaN            0.0  \n",
       "4            6.5      49.0    NaN             NaN            0.0  "
      ]
     },
     "execution_count": 461,
     "metadata": {},
     "output_type": "execute_result"
    }
   ],
   "source": [
    "imdbom = pd.read_csv('imdbom.csv')\n",
    "imdbom.head()"
   ]
  },
  {
   "cell_type": "code",
   "execution_count": 504,
   "metadata": {},
   "outputs": [],
   "source": [
    "\n",
    "tmd['year'] = tmd['release_date'].apply(lambda x: x.year) #add a year column for merge\n",
    "\n",
    "films = pd.merge(imdbom,tmd,on=['title','year'],how='inner',indicator=False,validate=\"1:1\")\n",
    "for col in ['Unnamed: 0','id_x','id_y','domestic_gross_y']:\n",
    "    del films[col]\n",
    "\n",
    "films.to_csv"
   ]
  }
 ],
 "metadata": {
  "kernelspec": {
   "display_name": "Python [conda env:learn-env] *",
   "language": "python",
   "name": "conda-env-learn-env-py"
  },
  "language_info": {
   "codemirror_mode": {
    "name": "ipython",
    "version": 3
   },
   "file_extension": ".py",
   "mimetype": "text/x-python",
   "name": "python",
   "nbconvert_exporter": "python",
   "pygments_lexer": "ipython3",
   "version": "3.6.9"
  }
 },
 "nbformat": 4,
 "nbformat_minor": 2
}
