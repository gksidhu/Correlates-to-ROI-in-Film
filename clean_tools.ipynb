{
 "cells": [
  {
   "cell_type": "code",
   "execution_count": 1,
   "metadata": {},
   "outputs": [],
   "source": [
    "#eventually these should be attatchable as methods to pandas dataframes\n",
    "\n",
    "\n",
    "#subset to rows with [columns] duplicates\n",
    "def duplicates_by(df, columns):\n",
    "    return df[df.duplicated(subset=columns,keep=False)].sort_values(columns)\n",
    "                                   \n",
    "\n",
    "#search for possible missing values in a dataframe\n",
    "def findna(df,columns=None,replace=False):\n",
    "    potential_missing_values = [-99,99,'.','n/a','na','Na','N/A','-','--','','inf','-inf']\n",
    "    if replace:\n",
    "        newdf = df.copy()\n",
    "    if not columns:\n",
    "        columns = df.columns\n",
    "    for col in columns:\n",
    "        for val in potential_missing_values:\n",
    "            if val in df[col].unique():\n",
    "                print(\"{} found in '{}' column\".format(val,col))\n",
    "                if replace:\n",
    "                    newdf[col].replace(val,np.NaN,inplace=True)\n",
    "    if replace:\n",
    "        return newdf\n",
    "    \n",
    "#fill na columns with data from [columns] duplicates\n",
    "def collapse_na_by(df_in, columns):\n",
    "    df = df_in.copy()\n",
    "    for col in df.columns:\n",
    "        df.col = df.groupby(columns, sort=True)[col].apply(lambda x: x.ffill().bfill())\n",
    "    return df\n",
    "\n",
    "#check [columns] for numbers + report counts\n",
    "def type_info(df,columns=None):\n",
    "    if not columns:\n",
    "        columns = df.columns\n",
    "    for col in columns:\n",
    "        if col.dtype == 'O':\n",
    "            if df.col.str.isdigit().sum():\n",
    "                strings, ints = df.col.str.isdigit().value_counts\n",
    "                print(\"'{}' column contains {} string and {} integers\".format{col,strings,ints})\n",
    "            \n",
    "      "
   ]
  },
  {
   "cell_type": "code",
   "execution_count": 3,
   "metadata": {},
   "outputs": [],
   "source": []
  },
  {
   "cell_type": "code",
   "execution_count": null,
   "metadata": {},
   "outputs": [],
   "source": []
  },
  {
   "cell_type": "code",
   "execution_count": null,
   "metadata": {},
   "outputs": [],
   "source": []
  }
 ],
 "metadata": {
  "kernelspec": {
   "display_name": "Python [conda env:learn-env] *",
   "language": "python",
   "name": "conda-env-learn-env-py"
  },
  "language_info": {
   "codemirror_mode": {
    "name": "ipython",
    "version": 3
   },
   "file_extension": ".py",
   "mimetype": "text/x-python",
   "name": "python",
   "nbconvert_exporter": "python",
   "pygments_lexer": "ipython3",
   "version": "3.6.9"
  }
 },
 "nbformat": 4,
 "nbformat_minor": 2
}
